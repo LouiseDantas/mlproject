{
 "cells": [
  {
   "cell_type": "code",
   "execution_count": 6,
   "id": "040bf96a",
   "metadata": {},
   "outputs": [],
   "source": [
    "import mlproject"
   ]
  },
  {
   "cell_type": "code",
   "execution_count": 5,
   "id": "ed3165e4",
   "metadata": {},
   "outputs": [],
   "source": [
    "from mlproject.distance import haversine"
   ]
  },
  {
   "cell_type": "code",
   "execution_count": 7,
   "id": "a344695e",
   "metadata": {},
   "outputs": [
    {
     "name": "stdout",
     "output_type": "stream",
     "text": [
      "Makefile     mlproject.egg-info  README.md\t   setup.py\r\n",
      "MANIFEST.in  notebooks\t\t requirements.txt  tests\r\n",
      "mlproject    raw_data\t\t scripts\t   Untitled.ipynb\r\n"
     ]
    }
   ],
   "source": [
    "!ls"
   ]
  },
  {
   "cell_type": "code",
   "execution_count": 9,
   "id": "0efcfab9",
   "metadata": {},
   "outputs": [],
   "source": [
    "!mlproject-computedist --coords 48.865070 2.380009 48.235070 2.393409"
   ]
  },
  {
   "cell_type": "code",
   "execution_count": null,
   "id": "31609bf5",
   "metadata": {},
   "outputs": [],
   "source": []
  }
 ],
 "metadata": {
  "kernelspec": {
   "display_name": "Python 3 (ipykernel)",
   "language": "python",
   "name": "python3"
  },
  "language_info": {
   "codemirror_mode": {
    "name": "ipython",
    "version": 3
   },
   "file_extension": ".py",
   "mimetype": "text/x-python",
   "name": "python",
   "nbconvert_exporter": "python",
   "pygments_lexer": "ipython3",
   "version": "3.8.12"
  },
  "toc": {
   "base_numbering": 1,
   "nav_menu": {},
   "number_sections": true,
   "sideBar": true,
   "skip_h1_title": false,
   "title_cell": "Table of Contents",
   "title_sidebar": "Contents",
   "toc_cell": false,
   "toc_position": {},
   "toc_section_display": true,
   "toc_window_display": false
  }
 },
 "nbformat": 4,
 "nbformat_minor": 5
}
